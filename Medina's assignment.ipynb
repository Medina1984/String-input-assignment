{
 "cells": [
  {
   "cell_type": "markdown",
   "metadata": {},
   "source": [
    "**Rozo's Homepage**"
   ]
  },
  {
   "cell_type": "code",
   "execution_count": 1,
   "metadata": {},
   "outputs": [
    {
     "name": "stdout",
     "output_type": "stream",
     "text": [
      "Welcome to Rozo's App. Please complete the following login details\n",
      "Medina\n",
      "Lebari\n",
      "obaitanakiroso@gmail.com\n",
      "kadatemy\n"
     ]
    }
   ],
   "source": [
    "print(\"Welcome to Rozo's App. Please complete the following login details\")\n",
    "\n",
    "# using inpt with a specific data type\n",
    "firstname = str(input())\n",
    "lastname = str(input())\n",
    "email = str(input())\n",
    "password = str(input())\n",
    "\n"
   ]
  },
  {
   "cell_type": "code",
   "execution_count": null,
   "metadata": {},
   "outputs": [],
   "source": []
  }
 ],
 "metadata": {
  "kernelspec": {
   "display_name": "Python 3",
   "language": "python",
   "name": "python3"
  },
  "language_info": {
   "codemirror_mode": {
    "name": "ipython",
    "version": 3
   },
   "file_extension": ".py",
   "mimetype": "text/x-python",
   "name": "python",
   "nbconvert_exporter": "python",
   "pygments_lexer": "ipython3",
   "version": "3.8.5"
  }
 },
 "nbformat": 4,
 "nbformat_minor": 4
}
